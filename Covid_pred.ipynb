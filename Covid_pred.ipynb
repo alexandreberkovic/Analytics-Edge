{
 "cells": [
  {
   "cell_type": "markdown",
   "metadata": {},
   "source": [
    "# COVID-19 prediction"
   ]
  },
  {
   "cell_type": "markdown",
   "metadata": {},
   "source": [
    "## Import data and packages"
   ]
  },
  {
   "cell_type": "code",
   "execution_count": 126,
   "metadata": {},
   "outputs": [],
   "source": [
    "import pandas as pd\n",
    "import numpy as np\n",
    "import matplotlib.pyplot as plt\n",
    "import seaborn as sns\n",
    "import warnings\n",
    "warnings.filterwarnings('ignore')\n"
   ]
  },
  {
   "cell_type": "code",
   "execution_count": 127,
   "metadata": {},
   "outputs": [],
   "source": [
    "df = pd.read_csv('covid.csv')"
   ]
  },
  {
   "cell_type": "code",
   "execution_count": 128,
   "metadata": {},
   "outputs": [
    {
     "data": {
      "text/html": [
       "<div>\n",
       "<style scoped>\n",
       "    .dataframe tbody tr th:only-of-type {\n",
       "        vertical-align: middle;\n",
       "    }\n",
       "\n",
       "    .dataframe tbody tr th {\n",
       "        vertical-align: top;\n",
       "    }\n",
       "\n",
       "    .dataframe thead th {\n",
       "        text-align: right;\n",
       "    }\n",
       "</style>\n",
       "<table border=\"1\" class=\"dataframe\">\n",
       "  <thead>\n",
       "    <tr style=\"text-align: right;\">\n",
       "      <th></th>\n",
       "      <th>state</th>\n",
       "      <th>date</th>\n",
       "      <th>critical_staffing_shortage_today_yes</th>\n",
       "      <th>critical_staffing_shortage_today_no</th>\n",
       "      <th>critical_staffing_shortage_today_not_reported</th>\n",
       "      <th>critical_staffing_shortage_anticipated_within_week_yes</th>\n",
       "      <th>critical_staffing_shortage_anticipated_within_week_no</th>\n",
       "      <th>critical_staffing_shortage_anticipated_within_week_not_reported</th>\n",
       "      <th>hospital_onset_covid</th>\n",
       "      <th>hospital_onset_covid_coverage</th>\n",
       "      <th>...</th>\n",
       "      <th>previous_day_admission_pediatric_covid_confirmed_5_11</th>\n",
       "      <th>previous_day_admission_pediatric_covid_confirmed_5_11_coverage</th>\n",
       "      <th>previous_day_admission_pediatric_covid_confirmed_unknown</th>\n",
       "      <th>previous_day_admission_pediatric_covid_confirmed_unknown_coverage</th>\n",
       "      <th>staffed_icu_pediatric_patients_confirmed_covid</th>\n",
       "      <th>staffed_icu_pediatric_patients_confirmed_covid_coverage</th>\n",
       "      <th>staffed_pediatric_icu_bed_occupancy</th>\n",
       "      <th>staffed_pediatric_icu_bed_occupancy_coverage</th>\n",
       "      <th>total_staffed_pediatric_icu_beds</th>\n",
       "      <th>total_staffed_pediatric_icu_beds_coverage</th>\n",
       "    </tr>\n",
       "  </thead>\n",
       "  <tbody>\n",
       "    <tr>\n",
       "      <th>0</th>\n",
       "      <td>ME</td>\n",
       "      <td>2021/01/20</td>\n",
       "      <td>3</td>\n",
       "      <td>28</td>\n",
       "      <td>8</td>\n",
       "      <td>2</td>\n",
       "      <td>29</td>\n",
       "      <td>8</td>\n",
       "      <td>7.0</td>\n",
       "      <td>38</td>\n",
       "      <td>...</td>\n",
       "      <td>NaN</td>\n",
       "      <td>0</td>\n",
       "      <td>NaN</td>\n",
       "      <td>0</td>\n",
       "      <td>NaN</td>\n",
       "      <td>0</td>\n",
       "      <td>47.0</td>\n",
       "      <td>38</td>\n",
       "      <td>54.0</td>\n",
       "      <td>38</td>\n",
       "    </tr>\n",
       "    <tr>\n",
       "      <th>1</th>\n",
       "      <td>SD</td>\n",
       "      <td>2021/01/20</td>\n",
       "      <td>2</td>\n",
       "      <td>60</td>\n",
       "      <td>3</td>\n",
       "      <td>2</td>\n",
       "      <td>60</td>\n",
       "      <td>3</td>\n",
       "      <td>34.0</td>\n",
       "      <td>62</td>\n",
       "      <td>...</td>\n",
       "      <td>NaN</td>\n",
       "      <td>0</td>\n",
       "      <td>NaN</td>\n",
       "      <td>0</td>\n",
       "      <td>NaN</td>\n",
       "      <td>0</td>\n",
       "      <td>33.0</td>\n",
       "      <td>62</td>\n",
       "      <td>83.0</td>\n",
       "      <td>62</td>\n",
       "    </tr>\n",
       "    <tr>\n",
       "      <th>2</th>\n",
       "      <td>MS</td>\n",
       "      <td>2021/01/17</td>\n",
       "      <td>12</td>\n",
       "      <td>95</td>\n",
       "      <td>2</td>\n",
       "      <td>16</td>\n",
       "      <td>91</td>\n",
       "      <td>2</td>\n",
       "      <td>10.0</td>\n",
       "      <td>107</td>\n",
       "      <td>...</td>\n",
       "      <td>NaN</td>\n",
       "      <td>0</td>\n",
       "      <td>NaN</td>\n",
       "      <td>0</td>\n",
       "      <td>NaN</td>\n",
       "      <td>0</td>\n",
       "      <td>78.0</td>\n",
       "      <td>107</td>\n",
       "      <td>180.0</td>\n",
       "      <td>107</td>\n",
       "    </tr>\n",
       "    <tr>\n",
       "      <th>3</th>\n",
       "      <td>CT</td>\n",
       "      <td>2021/01/13</td>\n",
       "      <td>4</td>\n",
       "      <td>35</td>\n",
       "      <td>1</td>\n",
       "      <td>4</td>\n",
       "      <td>35</td>\n",
       "      <td>1</td>\n",
       "      <td>31.0</td>\n",
       "      <td>39</td>\n",
       "      <td>...</td>\n",
       "      <td>NaN</td>\n",
       "      <td>0</td>\n",
       "      <td>NaN</td>\n",
       "      <td>0</td>\n",
       "      <td>NaN</td>\n",
       "      <td>0</td>\n",
       "      <td>196.0</td>\n",
       "      <td>39</td>\n",
       "      <td>335.0</td>\n",
       "      <td>39</td>\n",
       "    </tr>\n",
       "    <tr>\n",
       "      <th>4</th>\n",
       "      <td>MT</td>\n",
       "      <td>2021/01/13</td>\n",
       "      <td>10</td>\n",
       "      <td>56</td>\n",
       "      <td>1</td>\n",
       "      <td>11</td>\n",
       "      <td>55</td>\n",
       "      <td>1</td>\n",
       "      <td>18.0</td>\n",
       "      <td>66</td>\n",
       "      <td>...</td>\n",
       "      <td>NaN</td>\n",
       "      <td>0</td>\n",
       "      <td>NaN</td>\n",
       "      <td>0</td>\n",
       "      <td>NaN</td>\n",
       "      <td>0</td>\n",
       "      <td>12.0</td>\n",
       "      <td>21</td>\n",
       "      <td>40.0</td>\n",
       "      <td>21</td>\n",
       "    </tr>\n",
       "  </tbody>\n",
       "</table>\n",
       "<p>5 rows × 135 columns</p>\n",
       "</div>"
      ],
      "text/plain": [
       "  state        date  critical_staffing_shortage_today_yes  \\\n",
       "0    ME  2021/01/20                                     3   \n",
       "1    SD  2021/01/20                                     2   \n",
       "2    MS  2021/01/17                                    12   \n",
       "3    CT  2021/01/13                                     4   \n",
       "4    MT  2021/01/13                                    10   \n",
       "\n",
       "   critical_staffing_shortage_today_no  \\\n",
       "0                                   28   \n",
       "1                                   60   \n",
       "2                                   95   \n",
       "3                                   35   \n",
       "4                                   56   \n",
       "\n",
       "   critical_staffing_shortage_today_not_reported  \\\n",
       "0                                              8   \n",
       "1                                              3   \n",
       "2                                              2   \n",
       "3                                              1   \n",
       "4                                              1   \n",
       "\n",
       "   critical_staffing_shortage_anticipated_within_week_yes  \\\n",
       "0                                                  2        \n",
       "1                                                  2        \n",
       "2                                                 16        \n",
       "3                                                  4        \n",
       "4                                                 11        \n",
       "\n",
       "   critical_staffing_shortage_anticipated_within_week_no  \\\n",
       "0                                                 29       \n",
       "1                                                 60       \n",
       "2                                                 91       \n",
       "3                                                 35       \n",
       "4                                                 55       \n",
       "\n",
       "   critical_staffing_shortage_anticipated_within_week_not_reported  \\\n",
       "0                                                  8                 \n",
       "1                                                  3                 \n",
       "2                                                  2                 \n",
       "3                                                  1                 \n",
       "4                                                  1                 \n",
       "\n",
       "   hospital_onset_covid  hospital_onset_covid_coverage  ...  \\\n",
       "0                   7.0                             38  ...   \n",
       "1                  34.0                             62  ...   \n",
       "2                  10.0                            107  ...   \n",
       "3                  31.0                             39  ...   \n",
       "4                  18.0                             66  ...   \n",
       "\n",
       "   previous_day_admission_pediatric_covid_confirmed_5_11  \\\n",
       "0                                                NaN       \n",
       "1                                                NaN       \n",
       "2                                                NaN       \n",
       "3                                                NaN       \n",
       "4                                                NaN       \n",
       "\n",
       "   previous_day_admission_pediatric_covid_confirmed_5_11_coverage  \\\n",
       "0                                                  0                \n",
       "1                                                  0                \n",
       "2                                                  0                \n",
       "3                                                  0                \n",
       "4                                                  0                \n",
       "\n",
       "   previous_day_admission_pediatric_covid_confirmed_unknown  \\\n",
       "0                                                NaN          \n",
       "1                                                NaN          \n",
       "2                                                NaN          \n",
       "3                                                NaN          \n",
       "4                                                NaN          \n",
       "\n",
       "   previous_day_admission_pediatric_covid_confirmed_unknown_coverage  \\\n",
       "0                                                  0                   \n",
       "1                                                  0                   \n",
       "2                                                  0                   \n",
       "3                                                  0                   \n",
       "4                                                  0                   \n",
       "\n",
       "   staffed_icu_pediatric_patients_confirmed_covid  \\\n",
       "0                                             NaN   \n",
       "1                                             NaN   \n",
       "2                                             NaN   \n",
       "3                                             NaN   \n",
       "4                                             NaN   \n",
       "\n",
       "   staffed_icu_pediatric_patients_confirmed_covid_coverage  \\\n",
       "0                                                  0         \n",
       "1                                                  0         \n",
       "2                                                  0         \n",
       "3                                                  0         \n",
       "4                                                  0         \n",
       "\n",
       "   staffed_pediatric_icu_bed_occupancy  \\\n",
       "0                                 47.0   \n",
       "1                                 33.0   \n",
       "2                                 78.0   \n",
       "3                                196.0   \n",
       "4                                 12.0   \n",
       "\n",
       "   staffed_pediatric_icu_bed_occupancy_coverage  \\\n",
       "0                                            38   \n",
       "1                                            62   \n",
       "2                                           107   \n",
       "3                                            39   \n",
       "4                                            21   \n",
       "\n",
       "   total_staffed_pediatric_icu_beds  total_staffed_pediatric_icu_beds_coverage  \n",
       "0                              54.0                                         38  \n",
       "1                              83.0                                         62  \n",
       "2                             180.0                                        107  \n",
       "3                             335.0                                         39  \n",
       "4                              40.0                                         21  \n",
       "\n",
       "[5 rows x 135 columns]"
      ]
     },
     "execution_count": 128,
     "metadata": {},
     "output_type": "execute_result"
    }
   ],
   "source": [
    "df.head()"
   ]
  },
  {
   "cell_type": "markdown",
   "metadata": {},
   "source": [
    "## Initial EDA"
   ]
  },
  {
   "cell_type": "code",
   "execution_count": 129,
   "metadata": {},
   "outputs": [
    {
     "data": {
      "text/plain": [
       "(52445, 135)"
      ]
     },
     "execution_count": 129,
     "metadata": {},
     "output_type": "execute_result"
    }
   ],
   "source": [
    "# number of rows and columns\n",
    "df.shape"
   ]
  },
  {
   "cell_type": "markdown",
   "metadata": {},
   "source": [
    "### Lets filter out some features"
   ]
  },
  {
   "cell_type": "markdown",
   "metadata": {},
   "source": [
    "Lets better understand the data types in our dataset"
   ]
  },
  {
   "cell_type": "code",
   "execution_count": 130,
   "metadata": {},
   "outputs": [
    {
     "data": {
      "text/plain": [
       "float64    77\n",
       "int64      56\n",
       "object      2\n",
       "dtype: int64"
      ]
     },
     "execution_count": 130,
     "metadata": {},
     "output_type": "execute_result"
    }
   ],
   "source": [
    "# how many columns per data type\n",
    "df.dtypes.value_counts()"
   ]
  },
  {
   "cell_type": "markdown",
   "metadata": {},
   "source": [
    "What are our object columns exactly "
   ]
  },
  {
   "cell_type": "code",
   "execution_count": 131,
   "metadata": {},
   "outputs": [
    {
     "data": {
      "text/plain": [
       "Index(['state', 'date'], dtype='object')"
      ]
     },
     "execution_count": 131,
     "metadata": {},
     "output_type": "execute_result"
    }
   ],
   "source": [
    "# print object columns\n",
    "df.select_dtypes('object').columns\n"
   ]
  },
  {
   "cell_type": "markdown",
   "metadata": {},
   "source": [
    "#### We can convert 'state' to string and 'date' to a time stamp"
   ]
  },
  {
   "cell_type": "code",
   "execution_count": 132,
   "metadata": {},
   "outputs": [],
   "source": [
    "# convert date column to datetime\n",
    "df['date'] = pd.to_datetime(df['date'])\n",
    "\n",
    "# convert state column to string \n",
    "df['state'] = df['state'].astype(str)\n"
   ]
  },
  {
   "cell_type": "markdown",
   "metadata": {},
   "source": [
    "#### Remove columns which have a majority of Nan"
   ]
  },
  {
   "cell_type": "code",
   "execution_count": 133,
   "metadata": {},
   "outputs": [],
   "source": [
    "def nan_cols(df, pct):\n",
    "    \"\"\"function to return columns with more than pct % of missing values\"\"\"\n",
    "    lst = df.columns[df.isnull().mean() > pct]\n",
    "    return lst"
   ]
  },
  {
   "cell_type": "code",
   "execution_count": 134,
   "metadata": {},
   "outputs": [],
   "source": [
    "# columns with more than 50% of missing values\n",
    "nan50 = nan_cols(df, 0.5)\n",
    "\n",
    "# drop columns with more than 50% of missing values\n",
    "df.drop(nan50, axis=1, inplace=True)"
   ]
  },
  {
   "cell_type": "markdown",
   "metadata": {},
   "source": [
    "#### Removing data related to influenza as we are working specifically on this data "
   ]
  },
  {
   "cell_type": "code",
   "execution_count": 135,
   "metadata": {},
   "outputs": [
    {
     "data": {
      "text/plain": [
       "['icu_patients_confirmed_influenza',\n",
       " 'icu_patients_confirmed_influenza_coverage',\n",
       " 'previous_day_admission_influenza_confirmed',\n",
       " 'previous_day_admission_influenza_confirmed_coverage',\n",
       " 'previous_day_deaths_covid_and_influenza',\n",
       " 'previous_day_deaths_covid_and_influenza_coverage',\n",
       " 'previous_day_deaths_influenza',\n",
       " 'previous_day_deaths_influenza_coverage',\n",
       " 'total_patients_hospitalized_confirmed_influenza',\n",
       " 'total_patients_hospitalized_confirmed_influenza_and_covid',\n",
       " 'total_patients_hospitalized_confirmed_influenza_and_covid_coverage',\n",
       " 'total_patients_hospitalized_confirmed_influenza_coverage']"
      ]
     },
     "execution_count": 135,
     "metadata": {},
     "output_type": "execute_result"
    }
   ],
   "source": [
    "# how many column names with \"influenza\" in it\n",
    "influenza = df.columns[df.columns.str.contains('influenza')].tolist()\n",
    "influenza"
   ]
  },
  {
   "cell_type": "code",
   "execution_count": 136,
   "metadata": {},
   "outputs": [],
   "source": [
    "# drop influenza columns\n",
    "df.drop(influenza, axis=1, inplace=True)"
   ]
  },
  {
   "cell_type": "markdown",
   "metadata": {},
   "source": [
    "#### Remove the columns with \"coverage\""
   ]
  },
  {
   "cell_type": "code",
   "execution_count": 137,
   "metadata": {},
   "outputs": [],
   "source": [
    "# create a df wihtout columns that have \"coverage\" in it\n",
    "df = df[df.columns[~df.columns.str.contains('coverage')]]\n"
   ]
  },
  {
   "cell_type": "code",
   "execution_count": 138,
   "metadata": {},
   "outputs": [
    {
     "data": {
      "text/html": [
       "<div>\n",
       "<style scoped>\n",
       "    .dataframe tbody tr th:only-of-type {\n",
       "        vertical-align: middle;\n",
       "    }\n",
       "\n",
       "    .dataframe tbody tr th {\n",
       "        vertical-align: top;\n",
       "    }\n",
       "\n",
       "    .dataframe thead th {\n",
       "        text-align: right;\n",
       "    }\n",
       "</style>\n",
       "<table border=\"1\" class=\"dataframe\">\n",
       "  <thead>\n",
       "    <tr style=\"text-align: right;\">\n",
       "      <th></th>\n",
       "      <th>level_0</th>\n",
       "      <th>level_1</th>\n",
       "      <th>0</th>\n",
       "    </tr>\n",
       "  </thead>\n",
       "  <tbody>\n",
       "    <tr>\n",
       "      <th>75</th>\n",
       "      <td>total_staffed_adult_icu_beds</td>\n",
       "      <td>adult_icu_bed_utilization_denominator</td>\n",
       "      <td>0.999916</td>\n",
       "    </tr>\n",
       "    <tr>\n",
       "      <th>155</th>\n",
       "      <td>adult_icu_bed_utilization_denominator</td>\n",
       "      <td>total_staffed_adult_icu_beds</td>\n",
       "      <td>0.999916</td>\n",
       "    </tr>\n",
       "    <tr>\n",
       "      <th>40</th>\n",
       "      <td>staffed_adult_icu_bed_occupancy</td>\n",
       "      <td>adult_icu_bed_utilization_numerator</td>\n",
       "      <td>0.999886</td>\n",
       "    </tr>\n",
       "    <tr>\n",
       "      <th>144</th>\n",
       "      <td>adult_icu_bed_utilization_numerator</td>\n",
       "      <td>staffed_adult_icu_bed_occupancy</td>\n",
       "      <td>0.999886</td>\n",
       "    </tr>\n",
       "    <tr>\n",
       "      <th>160</th>\n",
       "      <td>adult_icu_bed_utilization_denominator</td>\n",
       "      <td>adult_icu_bed_covid_utilization_denominator</td>\n",
       "      <td>0.999836</td>\n",
       "    </tr>\n",
       "    <tr>\n",
       "      <th>...</th>\n",
       "      <td>...</td>\n",
       "      <td>...</td>\n",
       "      <td>...</td>\n",
       "    </tr>\n",
       "    <tr>\n",
       "      <th>48</th>\n",
       "      <td>staffed_icu_adult_patients_confirmed_covid</td>\n",
       "      <td>percent_of_inpatients_with_covid_numerator</td>\n",
       "      <td>0.950948</td>\n",
       "    </tr>\n",
       "    <tr>\n",
       "      <th>98</th>\n",
       "      <td>percent_of_inpatients_with_covid_numerator</td>\n",
       "      <td>previous_day_admission_adult_covid_confirmed</td>\n",
       "      <td>0.950347</td>\n",
       "    </tr>\n",
       "    <tr>\n",
       "      <th>26</th>\n",
       "      <td>previous_day_admission_adult_covid_confirmed</td>\n",
       "      <td>percent_of_inpatients_with_covid_numerator</td>\n",
       "      <td>0.950347</td>\n",
       "    </tr>\n",
       "    <tr>\n",
       "      <th>53</th>\n",
       "      <td>total_adult_patients_hospitalized_confirmed_an...</td>\n",
       "      <td>staffed_icu_adult_patients_confirmed_and_suspe...</td>\n",
       "      <td>0.950032</td>\n",
       "    </tr>\n",
       "    <tr>\n",
       "      <th>43</th>\n",
       "      <td>staffed_icu_adult_patients_confirmed_and_suspe...</td>\n",
       "      <td>total_adult_patients_hospitalized_confirmed_an...</td>\n",
       "      <td>0.950032</td>\n",
       "    </tr>\n",
       "  </tbody>\n",
       "</table>\n",
       "<p>182 rows × 3 columns</p>\n",
       "</div>"
      ],
      "text/plain": [
       "                                               level_0  \\\n",
       "75                        total_staffed_adult_icu_beds   \n",
       "155              adult_icu_bed_utilization_denominator   \n",
       "40                     staffed_adult_icu_bed_occupancy   \n",
       "144                adult_icu_bed_utilization_numerator   \n",
       "160              adult_icu_bed_utilization_denominator   \n",
       "..                                                 ...   \n",
       "48          staffed_icu_adult_patients_confirmed_covid   \n",
       "98          percent_of_inpatients_with_covid_numerator   \n",
       "26        previous_day_admission_adult_covid_confirmed   \n",
       "53   total_adult_patients_hospitalized_confirmed_an...   \n",
       "43   staffed_icu_adult_patients_confirmed_and_suspe...   \n",
       "\n",
       "                                               level_1         0  \n",
       "75               adult_icu_bed_utilization_denominator  0.999916  \n",
       "155                       total_staffed_adult_icu_beds  0.999916  \n",
       "40                 adult_icu_bed_utilization_numerator  0.999886  \n",
       "144                    staffed_adult_icu_bed_occupancy  0.999886  \n",
       "160        adult_icu_bed_covid_utilization_denominator  0.999836  \n",
       "..                                                 ...       ...  \n",
       "48          percent_of_inpatients_with_covid_numerator  0.950948  \n",
       "98        previous_day_admission_adult_covid_confirmed  0.950347  \n",
       "26          percent_of_inpatients_with_covid_numerator  0.950347  \n",
       "53   staffed_icu_adult_patients_confirmed_and_suspe...  0.950032  \n",
       "43   total_adult_patients_hospitalized_confirmed_an...  0.950032  \n",
       "\n",
       "[182 rows x 3 columns]"
      ]
     },
     "execution_count": 138,
     "metadata": {},
     "output_type": "execute_result"
    }
   ],
   "source": [
    "# print lal variables with correlation >0.8 but not equal to 1\n",
    "corr = df.corr()\n",
    "# pairs above 0.7\n",
    "pairs = corr[corr > 0.95][corr != 1].stack().reset_index().sort_values(by=0, ascending=False)\n",
    "pairs"
   ]
  },
  {
   "cell_type": "code",
   "execution_count": 139,
   "metadata": {},
   "outputs": [
    {
     "data": {
      "text/plain": [
       "33"
      ]
     },
     "execution_count": 139,
     "metadata": {},
     "output_type": "execute_result"
    }
   ],
   "source": [
    "# how many unique variables in pairs\n",
    "pairs['level_0'].nunique()"
   ]
  },
  {
   "cell_type": "markdown",
   "metadata": {},
   "source": [
    "Should we maybe do some sort of Holistic Regression or whatnot to reduce the number of variables ? or do it manually ? <br>\n",
    "Do we really want to keep pediatrics ?"
   ]
  },
  {
   "cell_type": "markdown",
   "metadata": {},
   "source": [
    "#### Remove \"states\" that are actually territories"
   ]
  },
  {
   "cell_type": "code",
   "execution_count": 140,
   "metadata": {},
   "outputs": [
    {
     "data": {
      "text/plain": [
       "53"
      ]
     },
     "execution_count": 140,
     "metadata": {},
     "output_type": "execute_result"
    }
   ],
   "source": [
    "# drop rows with number of points per state < 900\n",
    "df = df.groupby('state').filter(lambda x: len(x) > 900)\n",
    "\n",
    "#  how many states in df\n",
    "df['state'].nunique()"
   ]
  },
  {
   "cell_type": "code",
   "execution_count": 141,
   "metadata": {},
   "outputs": [
    {
     "data": {
      "text/plain": [
       "51"
      ]
     },
     "execution_count": 141,
     "metadata": {},
     "output_type": "execute_result"
    }
   ],
   "source": [
    "# remove VI, PR and AS from df\n",
    "df = df[~df['state'].isin(['VI', 'PR', 'AS'])]\n",
    "\n",
    "#  how many states in df\n",
    "df['state'].nunique()"
   ]
  },
  {
   "cell_type": "code",
   "execution_count": 142,
   "metadata": {},
   "outputs": [
    {
     "data": {
      "text/plain": [
       "(50088, 68)"
      ]
     },
     "execution_count": 142,
     "metadata": {},
     "output_type": "execute_result"
    }
   ],
   "source": [
    "df.shape"
   ]
  },
  {
   "cell_type": "code",
   "execution_count": 143,
   "metadata": {},
   "outputs": [
    {
     "data": {
      "text/html": [
       "<div>\n",
       "<style scoped>\n",
       "    .dataframe tbody tr th:only-of-type {\n",
       "        vertical-align: middle;\n",
       "    }\n",
       "\n",
       "    .dataframe tbody tr th {\n",
       "        vertical-align: top;\n",
       "    }\n",
       "\n",
       "    .dataframe thead th {\n",
       "        text-align: right;\n",
       "    }\n",
       "</style>\n",
       "<table border=\"1\" class=\"dataframe\">\n",
       "  <thead>\n",
       "    <tr style=\"text-align: right;\">\n",
       "      <th></th>\n",
       "      <th>state</th>\n",
       "      <th>date</th>\n",
       "      <th>critical_staffing_shortage_today_yes</th>\n",
       "      <th>critical_staffing_shortage_today_no</th>\n",
       "      <th>critical_staffing_shortage_today_not_reported</th>\n",
       "      <th>critical_staffing_shortage_anticipated_within_week_yes</th>\n",
       "      <th>critical_staffing_shortage_anticipated_within_week_no</th>\n",
       "      <th>critical_staffing_shortage_anticipated_within_week_not_reported</th>\n",
       "      <th>hospital_onset_covid</th>\n",
       "      <th>inpatient_beds</th>\n",
       "      <th>...</th>\n",
       "      <th>on_hand_supply_therapeutic_a_casirivimab_imdevimab_courses</th>\n",
       "      <th>on_hand_supply_therapeutic_b_bamlanivimab_courses</th>\n",
       "      <th>on_hand_supply_therapeutic_c_bamlanivimab_etesevimab_courses</th>\n",
       "      <th>previous_week_therapeutic_a_casirivimab_imdevimab_courses_used</th>\n",
       "      <th>previous_week_therapeutic_b_bamlanivimab_courses_used</th>\n",
       "      <th>previous_week_therapeutic_c_bamlanivimab_etesevimab_courses_used</th>\n",
       "      <th>all_pediatric_inpatient_bed_occupied</th>\n",
       "      <th>all_pediatric_inpatient_beds</th>\n",
       "      <th>staffed_pediatric_icu_bed_occupancy</th>\n",
       "      <th>total_staffed_pediatric_icu_beds</th>\n",
       "    </tr>\n",
       "  </thead>\n",
       "  <tbody>\n",
       "    <tr>\n",
       "      <th>0</th>\n",
       "      <td>ME</td>\n",
       "      <td>2021-01-20</td>\n",
       "      <td>3</td>\n",
       "      <td>28</td>\n",
       "      <td>8</td>\n",
       "      <td>2</td>\n",
       "      <td>29</td>\n",
       "      <td>8</td>\n",
       "      <td>7.0</td>\n",
       "      <td>3246.0</td>\n",
       "      <td>...</td>\n",
       "      <td>174.0</td>\n",
       "      <td>347.0</td>\n",
       "      <td>NaN</td>\n",
       "      <td>1.0</td>\n",
       "      <td>54.0</td>\n",
       "      <td>NaN</td>\n",
       "      <td>167.0</td>\n",
       "      <td>220.0</td>\n",
       "      <td>47.0</td>\n",
       "      <td>54.0</td>\n",
       "    </tr>\n",
       "    <tr>\n",
       "      <th>1</th>\n",
       "      <td>SD</td>\n",
       "      <td>2021-01-20</td>\n",
       "      <td>2</td>\n",
       "      <td>60</td>\n",
       "      <td>3</td>\n",
       "      <td>2</td>\n",
       "      <td>60</td>\n",
       "      <td>3</td>\n",
       "      <td>34.0</td>\n",
       "      <td>2857.0</td>\n",
       "      <td>...</td>\n",
       "      <td>519.0</td>\n",
       "      <td>914.0</td>\n",
       "      <td>NaN</td>\n",
       "      <td>22.0</td>\n",
       "      <td>244.0</td>\n",
       "      <td>NaN</td>\n",
       "      <td>297.0</td>\n",
       "      <td>363.0</td>\n",
       "      <td>33.0</td>\n",
       "      <td>83.0</td>\n",
       "    </tr>\n",
       "    <tr>\n",
       "      <th>2</th>\n",
       "      <td>MS</td>\n",
       "      <td>2021-01-17</td>\n",
       "      <td>12</td>\n",
       "      <td>95</td>\n",
       "      <td>2</td>\n",
       "      <td>16</td>\n",
       "      <td>91</td>\n",
       "      <td>2</td>\n",
       "      <td>10.0</td>\n",
       "      <td>8692.0</td>\n",
       "      <td>...</td>\n",
       "      <td>356.0</td>\n",
       "      <td>2668.0</td>\n",
       "      <td>NaN</td>\n",
       "      <td>100.0</td>\n",
       "      <td>1514.0</td>\n",
       "      <td>NaN</td>\n",
       "      <td>345.0</td>\n",
       "      <td>2453.0</td>\n",
       "      <td>78.0</td>\n",
       "      <td>180.0</td>\n",
       "    </tr>\n",
       "    <tr>\n",
       "      <th>3</th>\n",
       "      <td>CT</td>\n",
       "      <td>2021-01-13</td>\n",
       "      <td>4</td>\n",
       "      <td>35</td>\n",
       "      <td>1</td>\n",
       "      <td>4</td>\n",
       "      <td>35</td>\n",
       "      <td>1</td>\n",
       "      <td>31.0</td>\n",
       "      <td>8451.0</td>\n",
       "      <td>...</td>\n",
       "      <td>1625.0</td>\n",
       "      <td>3443.0</td>\n",
       "      <td>NaN</td>\n",
       "      <td>10.0</td>\n",
       "      <td>194.0</td>\n",
       "      <td>NaN</td>\n",
       "      <td>454.0</td>\n",
       "      <td>685.0</td>\n",
       "      <td>196.0</td>\n",
       "      <td>335.0</td>\n",
       "    </tr>\n",
       "    <tr>\n",
       "      <th>4</th>\n",
       "      <td>MT</td>\n",
       "      <td>2021-01-13</td>\n",
       "      <td>10</td>\n",
       "      <td>56</td>\n",
       "      <td>1</td>\n",
       "      <td>11</td>\n",
       "      <td>55</td>\n",
       "      <td>1</td>\n",
       "      <td>18.0</td>\n",
       "      <td>3220.0</td>\n",
       "      <td>...</td>\n",
       "      <td>1645.0</td>\n",
       "      <td>470.0</td>\n",
       "      <td>NaN</td>\n",
       "      <td>130.0</td>\n",
       "      <td>947.0</td>\n",
       "      <td>NaN</td>\n",
       "      <td>71.0</td>\n",
       "      <td>163.0</td>\n",
       "      <td>12.0</td>\n",
       "      <td>40.0</td>\n",
       "    </tr>\n",
       "  </tbody>\n",
       "</table>\n",
       "<p>5 rows × 68 columns</p>\n",
       "</div>"
      ],
      "text/plain": [
       "  state       date  critical_staffing_shortage_today_yes  \\\n",
       "0    ME 2021-01-20                                     3   \n",
       "1    SD 2021-01-20                                     2   \n",
       "2    MS 2021-01-17                                    12   \n",
       "3    CT 2021-01-13                                     4   \n",
       "4    MT 2021-01-13                                    10   \n",
       "\n",
       "   critical_staffing_shortage_today_no  \\\n",
       "0                                   28   \n",
       "1                                   60   \n",
       "2                                   95   \n",
       "3                                   35   \n",
       "4                                   56   \n",
       "\n",
       "   critical_staffing_shortage_today_not_reported  \\\n",
       "0                                              8   \n",
       "1                                              3   \n",
       "2                                              2   \n",
       "3                                              1   \n",
       "4                                              1   \n",
       "\n",
       "   critical_staffing_shortage_anticipated_within_week_yes  \\\n",
       "0                                                  2        \n",
       "1                                                  2        \n",
       "2                                                 16        \n",
       "3                                                  4        \n",
       "4                                                 11        \n",
       "\n",
       "   critical_staffing_shortage_anticipated_within_week_no  \\\n",
       "0                                                 29       \n",
       "1                                                 60       \n",
       "2                                                 91       \n",
       "3                                                 35       \n",
       "4                                                 55       \n",
       "\n",
       "   critical_staffing_shortage_anticipated_within_week_not_reported  \\\n",
       "0                                                  8                 \n",
       "1                                                  3                 \n",
       "2                                                  2                 \n",
       "3                                                  1                 \n",
       "4                                                  1                 \n",
       "\n",
       "   hospital_onset_covid  inpatient_beds  ...  \\\n",
       "0                   7.0          3246.0  ...   \n",
       "1                  34.0          2857.0  ...   \n",
       "2                  10.0          8692.0  ...   \n",
       "3                  31.0          8451.0  ...   \n",
       "4                  18.0          3220.0  ...   \n",
       "\n",
       "   on_hand_supply_therapeutic_a_casirivimab_imdevimab_courses  \\\n",
       "0                                              174.0            \n",
       "1                                              519.0            \n",
       "2                                              356.0            \n",
       "3                                             1625.0            \n",
       "4                                             1645.0            \n",
       "\n",
       "   on_hand_supply_therapeutic_b_bamlanivimab_courses  \\\n",
       "0                                              347.0   \n",
       "1                                              914.0   \n",
       "2                                             2668.0   \n",
       "3                                             3443.0   \n",
       "4                                              470.0   \n",
       "\n",
       "   on_hand_supply_therapeutic_c_bamlanivimab_etesevimab_courses  \\\n",
       "0                                                NaN              \n",
       "1                                                NaN              \n",
       "2                                                NaN              \n",
       "3                                                NaN              \n",
       "4                                                NaN              \n",
       "\n",
       "   previous_week_therapeutic_a_casirivimab_imdevimab_courses_used  \\\n",
       "0                                                1.0                \n",
       "1                                               22.0                \n",
       "2                                              100.0                \n",
       "3                                               10.0                \n",
       "4                                              130.0                \n",
       "\n",
       "   previous_week_therapeutic_b_bamlanivimab_courses_used  \\\n",
       "0                                               54.0       \n",
       "1                                              244.0       \n",
       "2                                             1514.0       \n",
       "3                                              194.0       \n",
       "4                                              947.0       \n",
       "\n",
       "   previous_week_therapeutic_c_bamlanivimab_etesevimab_courses_used  \\\n",
       "0                                                NaN                  \n",
       "1                                                NaN                  \n",
       "2                                                NaN                  \n",
       "3                                                NaN                  \n",
       "4                                                NaN                  \n",
       "\n",
       "   all_pediatric_inpatient_bed_occupied  all_pediatric_inpatient_beds  \\\n",
       "0                                 167.0                         220.0   \n",
       "1                                 297.0                         363.0   \n",
       "2                                 345.0                        2453.0   \n",
       "3                                 454.0                         685.0   \n",
       "4                                  71.0                         163.0   \n",
       "\n",
       "   staffed_pediatric_icu_bed_occupancy  total_staffed_pediatric_icu_beds  \n",
       "0                                 47.0                              54.0  \n",
       "1                                 33.0                              83.0  \n",
       "2                                 78.0                             180.0  \n",
       "3                                196.0                             335.0  \n",
       "4                                 12.0                              40.0  \n",
       "\n",
       "[5 rows x 68 columns]"
      ]
     },
     "execution_count": 143,
     "metadata": {},
     "output_type": "execute_result"
    }
   ],
   "source": [
    "df.head()"
   ]
  },
  {
   "cell_type": "code",
   "execution_count": null,
   "metadata": {},
   "outputs": [],
   "source": []
  },
  {
   "cell_type": "code",
   "execution_count": null,
   "metadata": {},
   "outputs": [],
   "source": []
  },
  {
   "cell_type": "markdown",
   "metadata": {},
   "source": [
    "# Easter egg: gini impurity code for ML :)"
   ]
  },
  {
   "cell_type": "code",
   "execution_count": 118,
   "metadata": {},
   "outputs": [],
   "source": [
    "#  gini impurity function with two probabilities\n",
    "def gini(p1, p2):\n",
    "    g = 1 - (p1**2 + p2**2)\n",
    "    return g"
   ]
  },
  {
   "cell_type": "code",
   "execution_count": 123,
   "metadata": {},
   "outputs": [
    {
     "data": {
      "text/plain": [
       "0.2975206611570249"
      ]
     },
     "execution_count": 123,
     "metadata": {},
     "output_type": "execute_result"
    }
   ],
   "source": [
    "p1 = 2/11\n",
    "p2 = abs(1 - p1)\n",
    "\n",
    "# gini impurity for p1 and p2 as a fraction \n",
    "g1 = gini(p1, p2)\n",
    "g1"
   ]
  },
  {
   "cell_type": "code",
   "execution_count": 124,
   "metadata": {},
   "outputs": [
    {
     "data": {
      "text/plain": [
       "0.48"
      ]
     },
     "execution_count": 124,
     "metadata": {},
     "output_type": "execute_result"
    }
   ],
   "source": [
    "p1 = 9/15\n",
    "p2 = abs(1 - p1)\n",
    "# gini impurity for p1 and p2 as a fraction \n",
    "g2 = gini(p1, p2)\n",
    "g2"
   ]
  },
  {
   "cell_type": "code",
   "execution_count": 125,
   "metadata": {},
   "outputs": [
    {
     "data": {
      "text/plain": [
       "0.40279720279720277"
      ]
     },
     "execution_count": 125,
     "metadata": {},
     "output_type": "execute_result"
    }
   ],
   "source": [
    "prop1 = 11/26\n",
    "prop2 = abs(1 - prop1)\n",
    "\n",
    "gt = prop1*g1 + prop2*g2\n",
    "gt"
   ]
  }
 ],
 "metadata": {
  "kernelspec": {
   "display_name": "Python 3.9.7 ('base')",
   "language": "python",
   "name": "python3"
  },
  "language_info": {
   "codemirror_mode": {
    "name": "ipython",
    "version": 3
   },
   "file_extension": ".py",
   "mimetype": "text/x-python",
   "name": "python",
   "nbconvert_exporter": "python",
   "pygments_lexer": "ipython3",
   "version": "3.9.7"
  },
  "orig_nbformat": 4,
  "vscode": {
   "interpreter": {
    "hash": "c0452acc44ecfb84a8c1f315fde829c33e4a156cddbe0c30db89230849d2a514"
   }
  }
 },
 "nbformat": 4,
 "nbformat_minor": 2
}
